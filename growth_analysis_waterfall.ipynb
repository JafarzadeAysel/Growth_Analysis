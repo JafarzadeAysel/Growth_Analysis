{
 "cells": [
  {
   "cell_type": "code",
   "execution_count": 1,
   "id": "9e333803-6f9c-466d-984b-1872c318a3e6",
   "metadata": {},
   "outputs": [],
   "source": [
    "import pandas as pd\n",
    "from datetime import date, timedelta\n",
    "import mysql.connector"
   ]
  },
  {
   "cell_type": "code",
   "execution_count": 170,
   "id": "9d2f4e38-909e-4b88-aa24-6fec4d5774a3",
   "metadata": {},
   "outputs": [
    {
     "data": {
      "text/plain": [
       "'\\nstatus:\\n    1 - active\\n    2 - cancelled\\n    3 - deactivated\\n\\nsub_start\\nsub_end\\n\\nperiod_start\\nperiod_end\\n\\n    base:\\n        sub_start <= period_start                         -> if status = 1 or 2\\n        sub_start <= period_start <= sub_end              -> if status = 3\\n    \\n    new:\\n        period_start <= FIRST sub_start <= period_end\\n    \\n    churned:\\n        period_start <= sub_end <= period_end\\n    \\n    resurrected:\\n        if AT LEAST ONE but NOT THE FIRST sub_start is contained in [period_start, period_end]\\n\\nA person can be present in more than one category\\n\\n'"
      ]
     },
     "execution_count": 170,
     "metadata": {},
     "output_type": "execute_result"
    }
   ],
   "source": [
    "\"\"\"\n",
    "status:\n",
    "    1 - active\n",
    "    2 - cancelled\n",
    "    3 - deactivated\n",
    "\n",
    "sub_start\n",
    "sub_end\n",
    "\n",
    "period_start\n",
    "period_end\n",
    "\n",
    "    base:\n",
    "        sub_start <= period_start                         -> if status = 1 or 2\n",
    "        sub_start <= period_start <= sub_end              -> if status = 3\n",
    "    \n",
    "    new:\n",
    "        period_start <= FIRST sub_start <= period_end\n",
    "    \n",
    "    churned:\n",
    "        period_start <= sub_end <= period_end\n",
    "    \n",
    "    resurrected:\n",
    "        if AT LEAST ONE but NOT THE FIRST sub_start is contained in [period_start, period_end]\n",
    "\n",
    "A person can be present in more than one category\n",
    "\n",
    "\"\"\""
   ]
  },
  {
   "cell_type": "markdown",
   "id": "3f25e799-6466-4916-a374-c9f886500596",
   "metadata": {},
   "source": [
    "### Function Definitions"
   ]
  },
  {
   "cell_type": "code",
   "execution_count": 10,
   "id": "b46c6efc-3adb-489d-bf04-2ff9d6e26d7c",
   "metadata": {},
   "outputs": [],
   "source": [
    "# if our data was real time, in order to consider last p days starting from yesterday:\n",
    "def set_period(p):\n",
    "    yesterday = date.today() - timedelta(days = 2)\n",
    "    period = timedelta(days = p-1)\n",
    "    \n",
    "    period_start = yesterday - period\n",
    "    period_end = yesterday\n",
    "\n",
    "    return(period_start, period_end)"
   ]
  },
  {
   "cell_type": "code",
   "execution_count": 27,
   "id": "94c5737a-367d-4396-a4c5-99035794b9fb",
   "metadata": {},
   "outputs": [],
   "source": [
    "# But our datebase is  frozen on oct 31st 2022, yesterday will not work\n",
    "def set_period(p):\n",
    "    period_end = date(2022,10,31)\n",
    "    period_start = period_end - timedelta(days = p-1)\n",
    "\n",
    "    return(period_start, period_end)"
   ]
  },
  {
   "cell_type": "code",
   "execution_count": 29,
   "id": "774a820e-d75a-413d-a31c-a4bf9968d706",
   "metadata": {},
   "outputs": [],
   "source": [
    "def is_base(df, period_start, period_end):\n",
    "    for i in range(len(df)):\n",
    "        if df['status'][i] == 3:\n",
    "            if df['sub_start'][i].date() <= period_start <= df['sub_end'][i].date():\n",
    "                return (True,i)\n",
    "        else:\n",
    "            if df['sub_start'][i].date() <= period_start:\n",
    "                return (True,i)\n",
    "    return (False, i)"
   ]
  },
  {
   "cell_type": "code",
   "execution_count": 31,
   "id": "2efaadee-7075-47ca-9885-bd6363751325",
   "metadata": {},
   "outputs": [],
   "source": [
    "def is_new(df, period_start,period_end):\n",
    "    if period_start <= df['sub_start'].min().date() <= period_end:\n",
    "        return (True,0)\n",
    "        \n",
    "    return (False, None)"
   ]
  },
  {
   "cell_type": "code",
   "execution_count": 5,
   "id": "e52419a9-ecad-4482-96f7-a751a43747e0",
   "metadata": {},
   "outputs": [],
   "source": [
    "def is_churned(df,period_start, period_end):\n",
    "    for i in range(len(df)):\n",
    "        if pd.isnull(df['sub_end'][i]):\n",
    "            continue\n",
    "        \n",
    "        if period_start <= df['sub_end'][i].date() <= period_end:\n",
    "            return (True,i)\n",
    "            \n",
    "    return (False, None)            "
   ]
  },
  {
   "cell_type": "code",
   "execution_count": 9,
   "id": "cf17c949-ef42-45e6-ab38-4b48992ac213",
   "metadata": {},
   "outputs": [],
   "source": [
    "def is_resurrected(df, period_start,period_end):\n",
    "    for i in range(1,len(df)):\n",
    "        if period_start <= df['sub_start'][i].date() <= period_end:\n",
    "            \n",
    "            return (True,i)\n",
    "        \n",
    "    return (False, None)"
   ]
  },
  {
   "cell_type": "code",
   "execution_count": 23,
   "id": "49840b9b-8579-4a38-a156-f11e2381a856",
   "metadata": {},
   "outputs": [],
   "source": [
    "def generate_user_tags(df, period = 30, period_start = None, period_end = None):\n",
    "    if period_start == None and period_end == None:\n",
    "        period_start, period_end = set_period(30)\n",
    "        \n",
    "    if  period_start == None:\n",
    "        period_start = period_end - timedelta(days = period -1)\n",
    "\n",
    "    if period_end == None:\n",
    "        period_end = period_start + timedelta(days = period +1)\n",
    "    r = []\n",
    "    users = df['user_id'].unique()\n",
    "\n",
    "    for user_id in users:\n",
    "        mask = df['user_id'] == user_id\n",
    "        user = df[mask].reset_index(drop = True)      \n",
    "\n",
    "        result, index = is_base(user, period_start, period_end)\n",
    "        if test:\n",
    "            r.append([user['user_id'][index], user['status'].iloc[-1],user['plan'][index],'Base'])\n",
    "            \n",
    "        result, index = is_new(user, period_start, period_end)\n",
    "        if test:\n",
    "            r.append([user['user_id'][index], user['status'].iloc[-1],user['plan'][index],'New'])\n",
    "            \n",
    "        result, index = is_churned(user, period_start, period_end)\n",
    "        if test:\n",
    "            r.append([user['user_id'][index], user['status'].iloc[-1],user['plan'][index],'Churned'])\n",
    "            \n",
    "        result, index = is_resurrected(user, period_start, period_end)\n",
    "        if test:\n",
    "            r.append([user['user_id'][index], user['status'].iloc[-1],user['plan'][index],'Resurrected'])\n",
    "\n",
    "    result = pd.DataFrame(r, columns = [\"user_id\", \"current status\", \"plan\", \"tag\"])\n",
    "    result.sort_values(by = 'user_id', inplace = True, ignore_index = True)\n",
    "\n",
    "    return result"
   ]
  },
  {
   "cell_type": "markdown",
   "id": "65be86a4-9821-4893-933c-3a2b27e4439e",
   "metadata": {},
   "source": [
    "### Data exploration"
   ]
  },
  {
   "cell_type": "code",
   "execution_count": 13,
   "id": "a1358f0f-1dfb-4889-9b71-3bc18fd3d7e0",
   "metadata": {},
   "outputs": [
    {
     "name": "stderr",
     "output_type": "stream",
     "text": [
      "C:\\Users\\User\\AppData\\Local\\Temp\\ipykernel_12732\\2039296800.py:27: UserWarning: pandas only supports SQLAlchemy connectable (engine/connection) or database string URI or sqlite3 DBAPI2 connection. Other DBAPI2 objects are not tested. Please consider using SQLAlchemy.\n",
      "  df = pd.read_sql(query, con=conn)\n"
     ]
    },
    {
     "name": "stdout",
     "output_type": "stream",
     "text": [
      "   user_id  subscription_id     plan  status   sub_start     sub_end\n",
      "0       31             8368   Annual       1  2022-03-31        None\n",
      "1      182             8246  Monthly       3  2022-03-26  2022-06-08\n",
      "2      182             9415  Monthly       3  2022-07-13  2022-08-13\n",
      "3      221             4629  Monthly       3  2021-06-10  2021-07-10\n",
      "4      235             6429   Annual       1  2021-11-28        None\n"
     ]
    }
   ],
   "source": [
    "conn = mysql.connector.connect(\n",
    "    host=\"localhost\",\n",
    "    user=\"root\",\n",
    "    password=\"admin\",\n",
    "    database=\"growth_data\",use_pure = True\n",
    ")\n",
    "query = \"\"\"\n",
    "SELECT\n",
    "\tuser_id,\n",
    "    subscription_id,\n",
    "    CASE\n",
    "\t\tWHEN subscription_type = 0 THEN \"Monthly\"\n",
    "        WHEN subscription_type = 1 THEN \"Quarterly\"\n",
    "        WHEN subscription_type = 2 THEN \"Annual\"\n",
    "\tEND as plan,\n",
    "    subscription_status as status,\n",
    "    CAST(date_start as DATE) as sub_start,\n",
    "    CAST(date_deactivated as DATE) as sub_end\n",
    "    FROM\n",
    "\tstudent_subscriptions\n",
    "WHERE\n",
    "\tsubscription_type != 3\n",
    "ORDER BY user_id, date_start;\n",
    "\"\"\"\n",
    "\n",
    "# Load into DataFrame\n",
    "df = pd.read_sql(query, con=conn)\n",
    "\n",
    "# Preview\n",
    "print(df.head())\n",
    "\n",
    "conn.close()"
   ]
  },
  {
   "cell_type": "code",
   "execution_count": 14,
   "id": "9a54e5a0-1c0f-4338-ae73-e2b890b79a1c",
   "metadata": {},
   "outputs": [
    {
     "data": {
      "text/html": [
       "<div>\n",
       "<style scoped>\n",
       "    .dataframe tbody tr th:only-of-type {\n",
       "        vertical-align: middle;\n",
       "    }\n",
       "\n",
       "    .dataframe tbody tr th {\n",
       "        vertical-align: top;\n",
       "    }\n",
       "\n",
       "    .dataframe thead th {\n",
       "        text-align: right;\n",
       "    }\n",
       "</style>\n",
       "<table border=\"1\" class=\"dataframe\">\n",
       "  <thead>\n",
       "    <tr style=\"text-align: right;\">\n",
       "      <th></th>\n",
       "      <th>user_id</th>\n",
       "      <th>subscription_id</th>\n",
       "      <th>plan</th>\n",
       "      <th>status</th>\n",
       "      <th>sub_start</th>\n",
       "      <th>sub_end</th>\n",
       "    </tr>\n",
       "  </thead>\n",
       "  <tbody>\n",
       "    <tr>\n",
       "      <th>0</th>\n",
       "      <td>31</td>\n",
       "      <td>8368</td>\n",
       "      <td>Annual</td>\n",
       "      <td>1</td>\n",
       "      <td>2022-03-31</td>\n",
       "      <td>None</td>\n",
       "    </tr>\n",
       "    <tr>\n",
       "      <th>1</th>\n",
       "      <td>182</td>\n",
       "      <td>8246</td>\n",
       "      <td>Monthly</td>\n",
       "      <td>3</td>\n",
       "      <td>2022-03-26</td>\n",
       "      <td>2022-06-08</td>\n",
       "    </tr>\n",
       "    <tr>\n",
       "      <th>2</th>\n",
       "      <td>182</td>\n",
       "      <td>9415</td>\n",
       "      <td>Monthly</td>\n",
       "      <td>3</td>\n",
       "      <td>2022-07-13</td>\n",
       "      <td>2022-08-13</td>\n",
       "    </tr>\n",
       "    <tr>\n",
       "      <th>3</th>\n",
       "      <td>221</td>\n",
       "      <td>4629</td>\n",
       "      <td>Monthly</td>\n",
       "      <td>3</td>\n",
       "      <td>2021-06-10</td>\n",
       "      <td>2021-07-10</td>\n",
       "    </tr>\n",
       "    <tr>\n",
       "      <th>4</th>\n",
       "      <td>235</td>\n",
       "      <td>6429</td>\n",
       "      <td>Annual</td>\n",
       "      <td>1</td>\n",
       "      <td>2021-11-28</td>\n",
       "      <td>None</td>\n",
       "    </tr>\n",
       "  </tbody>\n",
       "</table>\n",
       "</div>"
      ],
      "text/plain": [
       "   user_id  subscription_id     plan  status   sub_start     sub_end\n",
       "0       31             8368   Annual       1  2022-03-31        None\n",
       "1      182             8246  Monthly       3  2022-03-26  2022-06-08\n",
       "2      182             9415  Monthly       3  2022-07-13  2022-08-13\n",
       "3      221             4629  Monthly       3  2021-06-10  2021-07-10\n",
       "4      235             6429   Annual       1  2021-11-28        None"
      ]
     },
     "execution_count": 14,
     "metadata": {},
     "output_type": "execute_result"
    }
   ],
   "source": [
    "df.head()"
   ]
  },
  {
   "cell_type": "code",
   "execution_count": 29,
   "id": "1ad824be-16b6-4ca3-9040-455c6cb52abe",
   "metadata": {},
   "outputs": [
    {
     "data": {
      "text/plain": [
       "array([1, 3, 2], dtype=int64)"
      ]
     },
     "execution_count": 29,
     "metadata": {},
     "output_type": "execute_result"
    }
   ],
   "source": [
    "df.status.unique()\n",
    "# 1- active, 2 - cancelled, 3 - deactivated"
   ]
  },
  {
   "cell_type": "markdown",
   "id": "6ef08539-3db4-4067-b208-908609b19515",
   "metadata": {},
   "source": [
    "Cancelled means use canceled before the subscription period ends, so still has access to platform. When the current billing period end(sub_end column), status of that user switches to deactivated"
   ]
  },
  {
   "cell_type": "code",
   "execution_count": 17,
   "id": "c20571e1-56ac-49b8-bc87-4d4ab1d53d34",
   "metadata": {},
   "outputs": [
    {
     "name": "stderr",
     "output_type": "stream",
     "text": [
      "C:\\Users\\User\\AppData\\Local\\Temp\\ipykernel_12732\\2164813180.py:1: UserWarning: The argument 'infer_datetime_format' is deprecated and will be removed in a future version. A strict version of it is now the default, see https://pandas.pydata.org/pdeps/0004-consistent-to-datetime-parsing.html. You can safely remove this argument.\n",
      "  df['sub_start'] = pd .to_datetime(df['sub_start'], infer_datetime_format = True)\n",
      "C:\\Users\\User\\AppData\\Local\\Temp\\ipykernel_12732\\2164813180.py:2: UserWarning: The argument 'infer_datetime_format' is deprecated and will be removed in a future version. A strict version of it is now the default, see https://pandas.pydata.org/pdeps/0004-consistent-to-datetime-parsing.html. You can safely remove this argument.\n",
      "  df['sub_end'] = pd .to_datetime(df['sub_end'], infer_datetime_format = True)\n"
     ]
    }
   ],
   "source": [
    "df['sub_start'] = pd .to_datetime(df['sub_start'], infer_datetime_format = True)\n",
    "df['sub_end'] = pd .to_datetime(df['sub_end'], infer_datetime_format = True)"
   ]
  },
  {
   "cell_type": "code",
   "execution_count": 34,
   "id": "73d738df-c62d-435b-ad4c-bf74cbe3b83d",
   "metadata": {},
   "outputs": [
    {
     "data": {
      "text/html": [
       "<div>\n",
       "<style scoped>\n",
       "    .dataframe tbody tr th:only-of-type {\n",
       "        vertical-align: middle;\n",
       "    }\n",
       "\n",
       "    .dataframe tbody tr th {\n",
       "        vertical-align: top;\n",
       "    }\n",
       "\n",
       "    .dataframe thead th {\n",
       "        text-align: right;\n",
       "    }\n",
       "</style>\n",
       "<table border=\"1\" class=\"dataframe\">\n",
       "  <thead>\n",
       "    <tr style=\"text-align: right;\">\n",
       "      <th></th>\n",
       "      <th>user_id</th>\n",
       "      <th>subscription_id</th>\n",
       "      <th>plan</th>\n",
       "      <th>status</th>\n",
       "      <th>sub_start</th>\n",
       "      <th>sub_end</th>\n",
       "    </tr>\n",
       "  </thead>\n",
       "  <tbody>\n",
       "    <tr>\n",
       "      <th>0</th>\n",
       "      <td>31</td>\n",
       "      <td>8368</td>\n",
       "      <td>Annual</td>\n",
       "      <td>1</td>\n",
       "      <td>2022-03-31</td>\n",
       "      <td>NaT</td>\n",
       "    </tr>\n",
       "    <tr>\n",
       "      <th>1</th>\n",
       "      <td>182</td>\n",
       "      <td>8246</td>\n",
       "      <td>Monthly</td>\n",
       "      <td>3</td>\n",
       "      <td>2022-03-26</td>\n",
       "      <td>2022-06-08</td>\n",
       "    </tr>\n",
       "    <tr>\n",
       "      <th>2</th>\n",
       "      <td>182</td>\n",
       "      <td>9415</td>\n",
       "      <td>Monthly</td>\n",
       "      <td>3</td>\n",
       "      <td>2022-07-13</td>\n",
       "      <td>2022-08-13</td>\n",
       "    </tr>\n",
       "    <tr>\n",
       "      <th>3</th>\n",
       "      <td>221</td>\n",
       "      <td>4629</td>\n",
       "      <td>Monthly</td>\n",
       "      <td>3</td>\n",
       "      <td>2021-06-10</td>\n",
       "      <td>2021-07-10</td>\n",
       "    </tr>\n",
       "    <tr>\n",
       "      <th>4</th>\n",
       "      <td>235</td>\n",
       "      <td>6429</td>\n",
       "      <td>Annual</td>\n",
       "      <td>1</td>\n",
       "      <td>2021-11-28</td>\n",
       "      <td>NaT</td>\n",
       "    </tr>\n",
       "  </tbody>\n",
       "</table>\n",
       "</div>"
      ],
      "text/plain": [
       "   user_id  subscription_id     plan  status  sub_start    sub_end\n",
       "0       31             8368   Annual       1 2022-03-31        NaT\n",
       "1      182             8246  Monthly       3 2022-03-26 2022-06-08\n",
       "2      182             9415  Monthly       3 2022-07-13 2022-08-13\n",
       "3      221             4629  Monthly       3 2021-06-10 2021-07-10\n",
       "4      235             6429   Annual       1 2021-11-28        NaT"
      ]
     },
     "execution_count": 34,
     "metadata": {},
     "output_type": "execute_result"
    }
   ],
   "source": [
    "df.head()"
   ]
  },
  {
   "cell_type": "markdown",
   "id": "16d19868-ceb0-421d-9103-a75cd14f6dd7",
   "metadata": {},
   "source": [
    "### Testing"
   ]
  },
  {
   "cell_type": "code",
   "execution_count": 33,
   "id": "0b6cfbb1-0b24-4e30-a854-0f509699f8f8",
   "metadata": {},
   "outputs": [
    {
     "ename": "NameError",
     "evalue": "name 'test' is not defined",
     "output_type": "error",
     "traceback": [
      "\u001b[1;31m---------------------------------------------------------------------------\u001b[0m",
      "\u001b[1;31mNameError\u001b[0m                                 Traceback (most recent call last)",
      "Cell \u001b[1;32mIn[33], line 1\u001b[0m\n\u001b[1;32m----> 1\u001b[0m df_test \u001b[38;5;241m=\u001b[39m generate_user_tags(df,period \u001b[38;5;241m=\u001b[39m \u001b[38;5;241m365\u001b[39m)\n\u001b[0;32m      2\u001b[0m df_test\u001b[38;5;241m.\u001b[39mhead()\n",
      "Cell \u001b[1;32mIn[23], line 18\u001b[0m, in \u001b[0;36mgenerate_user_tags\u001b[1;34m(df, period, period_start, period_end)\u001b[0m\n\u001b[0;32m     15\u001b[0m user \u001b[38;5;241m=\u001b[39m df[mask]\u001b[38;5;241m.\u001b[39mreset_index(drop \u001b[38;5;241m=\u001b[39m \u001b[38;5;28;01mTrue\u001b[39;00m)      \n\u001b[0;32m     17\u001b[0m result, index \u001b[38;5;241m=\u001b[39m is_base(user, period_start, period_end)\n\u001b[1;32m---> 18\u001b[0m \u001b[38;5;28;01mif\u001b[39;00m test:\n\u001b[0;32m     19\u001b[0m     r\u001b[38;5;241m.\u001b[39mappend([user[\u001b[38;5;124m'\u001b[39m\u001b[38;5;124muser_id\u001b[39m\u001b[38;5;124m'\u001b[39m][index], user[\u001b[38;5;124m'\u001b[39m\u001b[38;5;124mstatus\u001b[39m\u001b[38;5;124m'\u001b[39m]\u001b[38;5;241m.\u001b[39miloc[\u001b[38;5;241m-\u001b[39m\u001b[38;5;241m1\u001b[39m],user[\u001b[38;5;124m'\u001b[39m\u001b[38;5;124mplan\u001b[39m\u001b[38;5;124m'\u001b[39m][index],\u001b[38;5;124m'\u001b[39m\u001b[38;5;124mBase\u001b[39m\u001b[38;5;124m'\u001b[39m])\n\u001b[0;32m     21\u001b[0m result, index \u001b[38;5;241m=\u001b[39m is_new(user, period_start, period_end)\n",
      "\u001b[1;31mNameError\u001b[0m: name 'test' is not defined"
     ]
    }
   ],
   "source": [
    "df_test = generate_user_tags(df,period = 365)\n",
    "df_test.head()"
   ]
  },
  {
   "cell_type": "code",
   "execution_count": 180,
   "id": "d42358cf-0f1a-4e6c-b04d-c11755a8c7ce",
   "metadata": {},
   "outputs": [
    {
     "data": {
      "text/html": [
       "<div>\n",
       "<style scoped>\n",
       "    .dataframe tbody tr th:only-of-type {\n",
       "        vertical-align: middle;\n",
       "    }\n",
       "\n",
       "    .dataframe tbody tr th {\n",
       "        vertical-align: top;\n",
       "    }\n",
       "\n",
       "    .dataframe thead th {\n",
       "        text-align: right;\n",
       "    }\n",
       "</style>\n",
       "<table border=\"1\" class=\"dataframe\">\n",
       "  <thead>\n",
       "    <tr style=\"text-align: right;\">\n",
       "      <th></th>\n",
       "      <th>user_id</th>\n",
       "      <th>subscription_id</th>\n",
       "      <th>plan</th>\n",
       "      <th>status</th>\n",
       "      <th>sub_start</th>\n",
       "      <th>sub_end</th>\n",
       "    </tr>\n",
       "  </thead>\n",
       "  <tbody>\n",
       "    <tr>\n",
       "      <th>1</th>\n",
       "      <td>182</td>\n",
       "      <td>8246</td>\n",
       "      <td>Monthly</td>\n",
       "      <td>3</td>\n",
       "      <td>2022-03-26</td>\n",
       "      <td>2022-06-08</td>\n",
       "    </tr>\n",
       "    <tr>\n",
       "      <th>2</th>\n",
       "      <td>182</td>\n",
       "      <td>9415</td>\n",
       "      <td>Monthly</td>\n",
       "      <td>3</td>\n",
       "      <td>2022-07-13</td>\n",
       "      <td>2022-08-13</td>\n",
       "    </tr>\n",
       "  </tbody>\n",
       "</table>\n",
       "</div>"
      ],
      "text/plain": [
       "   user_id  subscription_id     plan  status  sub_start    sub_end\n",
       "1      182             8246  Monthly       3 2022-03-26 2022-06-08\n",
       "2      182             9415  Monthly       3 2022-07-13 2022-08-13"
      ]
     },
     "execution_count": 180,
     "metadata": {},
     "output_type": "execute_result"
    }
   ],
   "source": [
    "# let's choose one user_id and see whether our functions work correctly\n",
    "df.loc[df['user_id'] == 182]"
   ]
  },
  {
   "cell_type": "code",
   "execution_count": 182,
   "id": "a677c779-b9b7-4027-a767-1ad50a93a23c",
   "metadata": {},
   "outputs": [
    {
     "data": {
      "text/html": [
       "<div>\n",
       "<style scoped>\n",
       "    .dataframe tbody tr th:only-of-type {\n",
       "        vertical-align: middle;\n",
       "    }\n",
       "\n",
       "    .dataframe tbody tr th {\n",
       "        vertical-align: top;\n",
       "    }\n",
       "\n",
       "    .dataframe thead th {\n",
       "        text-align: right;\n",
       "    }\n",
       "</style>\n",
       "<table border=\"1\" class=\"dataframe\">\n",
       "  <thead>\n",
       "    <tr style=\"text-align: right;\">\n",
       "      <th></th>\n",
       "      <th>user_id</th>\n",
       "      <th>current status</th>\n",
       "      <th>plan</th>\n",
       "      <th>tag</th>\n",
       "    </tr>\n",
       "  </thead>\n",
       "  <tbody>\n",
       "    <tr>\n",
       "      <th>1</th>\n",
       "      <td>182</td>\n",
       "      <td>3</td>\n",
       "      <td>Monthly</td>\n",
       "      <td>New</td>\n",
       "    </tr>\n",
       "    <tr>\n",
       "      <th>2</th>\n",
       "      <td>182</td>\n",
       "      <td>3</td>\n",
       "      <td>Monthly</td>\n",
       "      <td>Resurrected</td>\n",
       "    </tr>\n",
       "    <tr>\n",
       "      <th>3</th>\n",
       "      <td>182</td>\n",
       "      <td>3</td>\n",
       "      <td>Monthly</td>\n",
       "      <td>Churned</td>\n",
       "    </tr>\n",
       "  </tbody>\n",
       "</table>\n",
       "</div>"
      ],
      "text/plain": [
       "   user_id  current status     plan          tag\n",
       "1      182               3  Monthly          New\n",
       "2      182               3  Monthly  Resurrected\n",
       "3      182               3  Monthly      Churned"
      ]
     },
     "execution_count": 182,
     "metadata": {},
     "output_type": "execute_result"
    }
   ],
   "source": [
    "df_test.loc[df_test['user_id'] == 182]\n",
    "# it works!"
   ]
  },
  {
   "cell_type": "code",
   "execution_count": 188,
   "id": "d2f571ac-a49c-4248-a635-2acf7af91f65",
   "metadata": {},
   "outputs": [],
   "source": [
    "result_last_30 = generate_user_tags(df, period = 30)\n",
    "result_last_90 = generate_user_tags(df, period = 90)\n",
    "result_last_365 = generate_user_tags(df, period = 365)"
   ]
  }
 ],
 "metadata": {
  "kernelspec": {
   "display_name": "Python 3 (ipykernel)",
   "language": "python",
   "name": "python3"
  },
  "language_info": {
   "codemirror_mode": {
    "name": "ipython",
    "version": 3
   },
   "file_extension": ".py",
   "mimetype": "text/x-python",
   "name": "python",
   "nbconvert_exporter": "python",
   "pygments_lexer": "ipython3",
   "version": "3.12.4"
  }
 },
 "nbformat": 4,
 "nbformat_minor": 5
}
