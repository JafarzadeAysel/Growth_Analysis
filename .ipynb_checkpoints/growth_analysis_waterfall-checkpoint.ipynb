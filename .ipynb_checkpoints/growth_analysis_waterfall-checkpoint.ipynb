{
 "cells": [
  {
   "cell_type": "code",
   "execution_count": 28,
   "id": "9e333803-6f9c-466d-984b-1872c318a3e6",
   "metadata": {},
   "outputs": [],
   "source": [
    "import pandas as pd\n",
    "from datetime import date, timedelta\n",
    "import mysql.connector"
   ]
  },
  {
   "cell_type": "markdown",
   "id": "3f25e799-6466-4916-a374-c9f886500596",
   "metadata": {},
   "source": [
    "### Function Definitions"
   ]
  },
  {
   "cell_type": "code",
   "execution_count": 37,
   "id": "b46c6efc-3adb-489d-bf04-2ff9d6e26d7c",
   "metadata": {},
   "outputs": [],
   "source": [
    "# if our data was real time, in order to consider last p days starting from yesterday:\n",
    "def set_period(p):\n",
    "    yesterday = date.today() - timedelta(days = 2)\n",
    "    period = timedelta(days = p-1)\n",
    "    \n",
    "    period_start = yesterday - period\n",
    "    period_end = yesterday\n",
    "\n",
    "    return(period_start, period_end)"
   ]
  },
  {
   "cell_type": "code",
   "execution_count": 39,
   "id": "94c5737a-367d-4396-a4c5-99035794b9fb",
   "metadata": {},
   "outputs": [],
   "source": [
    "# But our datebase is  frozen on oct 31st 2022, yesterday will not work\n",
    "def set_period(p):\n",
    "    period_end = date(2022,10,31)\n",
    "    period_start = period_end - timedelta(days = p-1)\n",
    "\n",
    "    return(period_start, period_end)"
   ]
  },
  {
   "cell_type": "code",
   "execution_count": null,
   "id": "774a820e-d75a-413d-a31c-a4bf9968d706",
   "metadata": {},
   "outputs": [],
   "source": []
  },
  {
   "cell_type": "markdown",
   "id": "65be86a4-9821-4893-933c-3a2b27e4439e",
   "metadata": {},
   "source": [
    "### Data exploration"
   ]
  },
  {
   "cell_type": "code",
   "execution_count": 16,
   "id": "a1358f0f-1dfb-4889-9b71-3bc18fd3d7e0",
   "metadata": {},
   "outputs": [
    {
     "data": {
      "application/javascript": [
       "\n",
       "        if (window._pyforest_update_imports_cell) { window._pyforest_update_imports_cell('import pandas as pd'); }\n",
       "    "
      ],
      "text/plain": [
       "<IPython.core.display.Javascript object>"
      ]
     },
     "metadata": {},
     "output_type": "display_data"
    },
    {
     "name": "stdout",
     "output_type": "stream",
     "text": [
      "   user_id  subscription_id     plan  status   sub_start     sub_end\n",
      "0       31             8368   Annual       1  2022-03-31        None\n",
      "1      182             8246  Monthly       3  2022-03-26  2022-06-08\n",
      "2      182             9415  Monthly       3  2022-07-13  2022-08-13\n",
      "3      221             4629  Monthly       3  2021-06-10  2021-07-10\n",
      "4      235             6429   Annual       1  2021-11-28        None\n"
     ]
    },
    {
     "name": "stderr",
     "output_type": "stream",
     "text": [
      "C:\\Users\\User\\AppData\\Local\\Temp\\ipykernel_28452\\3380008316.py:28: UserWarning: pandas only supports SQLAlchemy connectable (engine/connection) or database string URI or sqlite3 DBAPI2 connection. Other DBAPI2 objects are not tested. Please consider using SQLAlchemy.\n",
      "  df = pd.read_sql(query, con=conn)\n"
     ]
    }
   ],
   "source": [
    "conn = mysql.connector.connect(\n",
    "    host=\"localhost\",\n",
    "    user=\"root\",\n",
    "    password=\"admin\",\n",
    "    database=\"growth_data\",use_pure = True\n",
    ")\n",
    "query = \"\"\"\n",
    "SELECT\n",
    "\tuser_id,\n",
    "    subscription_id,\n",
    "    CASE\n",
    "\t\tWHEN subscription_type = 0 THEN \"Monthly\"\n",
    "        WHEN subscription_type = 1 THEN \"Quarterly\"\n",
    "        WHEN subscription_type = 2 THEN \"Annual\"\n",
    "\tEND as plan,\n",
    "    subscription_status as status,\n",
    "    CAST(date_start as DATE) as sub_start,\n",
    "    CAST(date_deactivated as DATE) as sub_end\n",
    "    FROM\n",
    "\tstudent_subscriptions\n",
    "WHERE\n",
    "\tsubscription_type != 3\n",
    "ORDER BY user_id, date_start;\n",
    "\"\"\"\n",
    "\n",
    "# Load into DataFrame\n",
    "df = pd.read_sql(query, con=conn)\n",
    "\n",
    "# Preview\n",
    "print(df.head())\n",
    "\n",
    "conn.close()"
   ]
  },
  {
   "cell_type": "code",
   "execution_count": 18,
   "id": "9a54e5a0-1c0f-4338-ae73-e2b890b79a1c",
   "metadata": {},
   "outputs": [
    {
     "data": {
      "text/html": [
       "<div>\n",
       "<style scoped>\n",
       "    .dataframe tbody tr th:only-of-type {\n",
       "        vertical-align: middle;\n",
       "    }\n",
       "\n",
       "    .dataframe tbody tr th {\n",
       "        vertical-align: top;\n",
       "    }\n",
       "\n",
       "    .dataframe thead th {\n",
       "        text-align: right;\n",
       "    }\n",
       "</style>\n",
       "<table border=\"1\" class=\"dataframe\">\n",
       "  <thead>\n",
       "    <tr style=\"text-align: right;\">\n",
       "      <th></th>\n",
       "      <th>user_id</th>\n",
       "      <th>subscription_id</th>\n",
       "      <th>plan</th>\n",
       "      <th>status</th>\n",
       "      <th>sub_start</th>\n",
       "      <th>sub_end</th>\n",
       "    </tr>\n",
       "  </thead>\n",
       "  <tbody>\n",
       "    <tr>\n",
       "      <th>0</th>\n",
       "      <td>31</td>\n",
       "      <td>8368</td>\n",
       "      <td>Annual</td>\n",
       "      <td>1</td>\n",
       "      <td>2022-03-31</td>\n",
       "      <td>None</td>\n",
       "    </tr>\n",
       "    <tr>\n",
       "      <th>1</th>\n",
       "      <td>182</td>\n",
       "      <td>8246</td>\n",
       "      <td>Monthly</td>\n",
       "      <td>3</td>\n",
       "      <td>2022-03-26</td>\n",
       "      <td>2022-06-08</td>\n",
       "    </tr>\n",
       "    <tr>\n",
       "      <th>2</th>\n",
       "      <td>182</td>\n",
       "      <td>9415</td>\n",
       "      <td>Monthly</td>\n",
       "      <td>3</td>\n",
       "      <td>2022-07-13</td>\n",
       "      <td>2022-08-13</td>\n",
       "    </tr>\n",
       "    <tr>\n",
       "      <th>3</th>\n",
       "      <td>221</td>\n",
       "      <td>4629</td>\n",
       "      <td>Monthly</td>\n",
       "      <td>3</td>\n",
       "      <td>2021-06-10</td>\n",
       "      <td>2021-07-10</td>\n",
       "    </tr>\n",
       "    <tr>\n",
       "      <th>4</th>\n",
       "      <td>235</td>\n",
       "      <td>6429</td>\n",
       "      <td>Annual</td>\n",
       "      <td>1</td>\n",
       "      <td>2021-11-28</td>\n",
       "      <td>None</td>\n",
       "    </tr>\n",
       "  </tbody>\n",
       "</table>\n",
       "</div>"
      ],
      "text/plain": [
       "   user_id  subscription_id     plan  status   sub_start     sub_end\n",
       "0       31             8368   Annual       1  2022-03-31        None\n",
       "1      182             8246  Monthly       3  2022-03-26  2022-06-08\n",
       "2      182             9415  Monthly       3  2022-07-13  2022-08-13\n",
       "3      221             4629  Monthly       3  2021-06-10  2021-07-10\n",
       "4      235             6429   Annual       1  2021-11-28        None"
      ]
     },
     "execution_count": 18,
     "metadata": {},
     "output_type": "execute_result"
    }
   ],
   "source": [
    "df.head()"
   ]
  },
  {
   "cell_type": "code",
   "execution_count": 24,
   "id": "c20571e1-56ac-49b8-bc87-4d4ab1d53d34",
   "metadata": {},
   "outputs": [
    {
     "data": {
      "application/javascript": [
       "\n",
       "        if (window._pyforest_update_imports_cell) { window._pyforest_update_imports_cell('import pandas as pd'); }\n",
       "    "
      ],
      "text/plain": [
       "<IPython.core.display.Javascript object>"
      ]
     },
     "metadata": {},
     "output_type": "display_data"
    },
    {
     "name": "stderr",
     "output_type": "stream",
     "text": [
      "C:\\Users\\User\\AppData\\Local\\Temp\\ipykernel_28452\\2164813180.py:1: UserWarning: The argument 'infer_datetime_format' is deprecated and will be removed in a future version. A strict version of it is now the default, see https://pandas.pydata.org/pdeps/0004-consistent-to-datetime-parsing.html. You can safely remove this argument.\n",
      "  df['sub_start'] = pd .to_datetime(df['sub_start'], infer_datetime_format = True)\n"
     ]
    },
    {
     "data": {
      "application/javascript": [
       "\n",
       "        if (window._pyforest_update_imports_cell) { window._pyforest_update_imports_cell('import pandas as pd'); }\n",
       "    "
      ],
      "text/plain": [
       "<IPython.core.display.Javascript object>"
      ]
     },
     "metadata": {},
     "output_type": "display_data"
    },
    {
     "name": "stderr",
     "output_type": "stream",
     "text": [
      "C:\\Users\\User\\AppData\\Local\\Temp\\ipykernel_28452\\2164813180.py:2: UserWarning: The argument 'infer_datetime_format' is deprecated and will be removed in a future version. A strict version of it is now the default, see https://pandas.pydata.org/pdeps/0004-consistent-to-datetime-parsing.html. You can safely remove this argument.\n",
      "  df['sub_end'] = pd .to_datetime(df['sub_end'], infer_datetime_format = True)\n"
     ]
    }
   ],
   "source": [
    "df['sub_start'] = pd .to_datetime(df['sub_start'], infer_datetime_format = True)\n",
    "df['sub_end'] = pd .to_datetime(df['sub_end'], infer_datetime_format = True)"
   ]
  },
  {
   "cell_type": "code",
   "execution_count": 26,
   "id": "73d738df-c62d-435b-ad4c-bf74cbe3b83d",
   "metadata": {},
   "outputs": [
    {
     "data": {
      "text/html": [
       "<div>\n",
       "<style scoped>\n",
       "    .dataframe tbody tr th:only-of-type {\n",
       "        vertical-align: middle;\n",
       "    }\n",
       "\n",
       "    .dataframe tbody tr th {\n",
       "        vertical-align: top;\n",
       "    }\n",
       "\n",
       "    .dataframe thead th {\n",
       "        text-align: right;\n",
       "    }\n",
       "</style>\n",
       "<table border=\"1\" class=\"dataframe\">\n",
       "  <thead>\n",
       "    <tr style=\"text-align: right;\">\n",
       "      <th></th>\n",
       "      <th>user_id</th>\n",
       "      <th>subscription_id</th>\n",
       "      <th>plan</th>\n",
       "      <th>status</th>\n",
       "      <th>sub_start</th>\n",
       "      <th>sub_end</th>\n",
       "    </tr>\n",
       "  </thead>\n",
       "  <tbody>\n",
       "    <tr>\n",
       "      <th>0</th>\n",
       "      <td>31</td>\n",
       "      <td>8368</td>\n",
       "      <td>Annual</td>\n",
       "      <td>1</td>\n",
       "      <td>2022-03-31</td>\n",
       "      <td>NaT</td>\n",
       "    </tr>\n",
       "    <tr>\n",
       "      <th>1</th>\n",
       "      <td>182</td>\n",
       "      <td>8246</td>\n",
       "      <td>Monthly</td>\n",
       "      <td>3</td>\n",
       "      <td>2022-03-26</td>\n",
       "      <td>2022-06-08</td>\n",
       "    </tr>\n",
       "    <tr>\n",
       "      <th>2</th>\n",
       "      <td>182</td>\n",
       "      <td>9415</td>\n",
       "      <td>Monthly</td>\n",
       "      <td>3</td>\n",
       "      <td>2022-07-13</td>\n",
       "      <td>2022-08-13</td>\n",
       "    </tr>\n",
       "    <tr>\n",
       "      <th>3</th>\n",
       "      <td>221</td>\n",
       "      <td>4629</td>\n",
       "      <td>Monthly</td>\n",
       "      <td>3</td>\n",
       "      <td>2021-06-10</td>\n",
       "      <td>2021-07-10</td>\n",
       "    </tr>\n",
       "    <tr>\n",
       "      <th>4</th>\n",
       "      <td>235</td>\n",
       "      <td>6429</td>\n",
       "      <td>Annual</td>\n",
       "      <td>1</td>\n",
       "      <td>2021-11-28</td>\n",
       "      <td>NaT</td>\n",
       "    </tr>\n",
       "  </tbody>\n",
       "</table>\n",
       "</div>"
      ],
      "text/plain": [
       "   user_id  subscription_id     plan  status  sub_start    sub_end\n",
       "0       31             8368   Annual       1 2022-03-31        NaT\n",
       "1      182             8246  Monthly       3 2022-03-26 2022-06-08\n",
       "2      182             9415  Monthly       3 2022-07-13 2022-08-13\n",
       "3      221             4629  Monthly       3 2021-06-10 2021-07-10\n",
       "4      235             6429   Annual       1 2021-11-28        NaT"
      ]
     },
     "execution_count": 26,
     "metadata": {},
     "output_type": "execute_result"
    }
   ],
   "source": [
    "df.head()"
   ]
  }
 ],
 "metadata": {
  "kernelspec": {
   "display_name": "Python 3 (ipykernel)",
   "language": "python",
   "name": "python3"
  },
  "language_info": {
   "codemirror_mode": {
    "name": "ipython",
    "version": 3
   },
   "file_extension": ".py",
   "mimetype": "text/x-python",
   "name": "python",
   "nbconvert_exporter": "python",
   "pygments_lexer": "ipython3",
   "version": "3.12.4"
  }
 },
 "nbformat": 4,
 "nbformat_minor": 5
}
