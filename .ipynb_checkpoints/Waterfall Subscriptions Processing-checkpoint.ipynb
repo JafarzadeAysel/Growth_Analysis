{
 "cells": [
  {
   "cell_type": "code",
   "execution_count": 1,
   "id": "b4f94997",
   "metadata": {},
   "outputs": [],
   "source": [
    "import pandas as pd\n",
    "from datetime import date, timedelta"
   ]
  },
  {
   "cell_type": "code",
   "execution_count": null,
   "id": "1c496162",
   "metadata": {},
   "outputs": [],
   "source": [
    "\"\"\"\n",
    "status:\n",
    "    1 - active\n",
    "    2 - cancelled\n",
    "    3 - deactivated\n",
    "\n",
    "sub_start\n",
    "sub_end\n",
    "\n",
    "period_start\n",
    "period_end\n",
    "\n",
    "    base:\n",
    "        sub_start <= period_start                         -> if status = 1 or 2\n",
    "        sub_start <= period_start <= sub_end              -> if status = 3\n",
    "    \n",
    "    new:\n",
    "        period_start <= FIRST sub_start <= period_end\n",
    "    \n",
    "    churned:\n",
    "        period_start <= sub_end <= period_end\n",
    "    \n",
    "    resurrected:\n",
    "        if AT LEAST ONE but NOT THE FIRST sub_start is contained in [period_start, period_end]\n",
    "\n",
    "A person can be present in more than one category\n",
    "\n",
    "\"\"\""
   ]
  },
  {
   "cell_type": "markdown",
   "id": "15cf7c34",
   "metadata": {},
   "source": [
    "## Function Definitions"
   ]
  },
  {
   "cell_type": "code",
   "execution_count": 7,
   "id": "6be15adb",
   "metadata": {},
   "outputs": [],
   "source": [
    "def set_period(p):\n",
    "    \n",
    "    period_end = date(2022,10,31)\n",
    "    period_start = period_end - timedelta(days = p-1)\n",
    "    \n",
    "    return (period_start, period_end)"
   ]
  },
  {
   "cell_type": "code",
   "execution_count": 8,
   "id": "ee893e9f",
   "metadata": {},
   "outputs": [],
   "source": [
    "def is_base(df, period_start, period_end):\n",
    "    \n",
    "    for i in range(len(df)):\n",
    "        \n",
    "        if df['status'][i] == 3:\n",
    "            if df['sub_start'][i].date() <= period_start <= df['sub_end'][i].date():\n",
    "                return (True, i)\n",
    "        \n",
    "        else:\n",
    "            if df['sub_start'][i].date() <= period_start:\n",
    "                return (True, i)\n",
    "        \n",
    "    return (False, None)"
   ]
  },
  {
   "cell_type": "code",
   "execution_count": 9,
   "id": "40511033",
   "metadata": {},
   "outputs": [],
   "source": [
    "def is_new(df, period_start, period_end):\n",
    "    \n",
    "    if period_start <= df['sub_start'].min().date() <= period_end:\n",
    "        return (True, 0)\n",
    "    \n",
    "    return (False, None)"
   ]
  },
  {
   "cell_type": "code",
   "execution_count": 10,
   "id": "9e075dd4",
   "metadata": {},
   "outputs": [],
   "source": [
    "def is_churned(df, period_start, period_end):\n",
    "    \n",
    "    for i in range(len(df)):\n",
    "        \n",
    "        if pd.isnull(df['sub_end'][i]):\n",
    "            continue\n",
    "        \n",
    "        if period_start <= df['sub_end'][i].date() <= period_end:\n",
    "            return (True, i)\n",
    "        \n",
    "    return (False, None)"
   ]
  },
  {
   "cell_type": "code",
   "execution_count": 11,
   "id": "b2995786",
   "metadata": {},
   "outputs": [],
   "source": [
    "def is_resurrected(df, period_start, period_end):\n",
    "    \n",
    "    for i in range(1, len(df)):\n",
    "        \n",
    "        if period_start <= df['sub_start'][i].date() <= period_end:\n",
    "            return (True, i)\n",
    "    \n",
    "    return (False, None)"
   ]
  },
  {
   "cell_type": "code",
   "execution_count": 12,
   "id": "e755f4c9",
   "metadata": {},
   "outputs": [],
   "source": [
    "def generate_user_tags(df, period = 30, period_start = None, period_end = None):\n",
    "    \n",
    "    if period_start is None and period_end is None:\n",
    "        period_start, period_end = set_period(period)\n",
    "    \n",
    "    if period_start is None:\n",
    "        period_start = period_end - timedelta(days = period - 1)\n",
    "    \n",
    "    if period_end is None:\n",
    "        period_end = period_start + timedelta(days = period - 1)\n",
    "    \n",
    "    \n",
    "    \n",
    "    r = []\n",
    "    \n",
    "    \n",
    "    users = set(df['user_id'])\n",
    "    \n",
    "    for user_id in users:\n",
    "        \n",
    "        mask = (df['user_id'] == user_id)\n",
    "        user = df[mask]\n",
    "        user.reset_index(drop = True, inplace = True)\n",
    "        \n",
    "        \n",
    "        test, index = is_base(user, period_start, period_end)\n",
    "        if test:\n",
    "            r.append([ user['user_id'][index], user['status'].iloc[-1], user['plan'][index], \"Base\" ])\n",
    "        \n",
    "        test, index = is_new(user, period_start, period_end)\n",
    "        if test:\n",
    "            r.append([ user['user_id'][index], user['status'].iloc[-1], user['plan'][index], \"New\" ])\n",
    "        \n",
    "        test, index = is_churned(user, period_start, period_end)\n",
    "        if test:\n",
    "            r.append([ user['user_id'][index], user['status'].iloc[-1], user['plan'][index], \"Churned\" ])\n",
    "        \n",
    "        test, index = is_resurrected(user, period_start, period_end)\n",
    "        if test:\n",
    "            r.append([ user['user_id'][index], user['status'].iloc[-1], user['plan'][index], \"Resurrected\" ])\n",
    "    \n",
    "    \n",
    "    \n",
    "    result = pd.DataFrame(data = r, columns = [\"user_id\", \"current status\", \"plan\", \"tag\"])\n",
    "    result.sort_values(by = \"user_id\", inplace = True, ignore_index = True)\n",
    "    \n",
    "    \n",
    "    return result\n",
    "    "
   ]
  },
  {
   "cell_type": "markdown",
   "id": "8f17e48d",
   "metadata": {},
   "source": [
    "## Data Exploration"
   ]
  },
  {
   "cell_type": "code",
   "execution_count": 2,
   "id": "cb4bfbe4",
   "metadata": {},
   "outputs": [],
   "source": [
    "data = pd.read_csv(\"Waterfall_subscriptions.csv\")"
   ]
  },
  {
   "cell_type": "code",
   "execution_count": 3,
   "id": "5521e1c0",
   "metadata": {},
   "outputs": [
    {
     "data": {
      "text/html": [
       "<div>\n",
       "<style scoped>\n",
       "    .dataframe tbody tr th:only-of-type {\n",
       "        vertical-align: middle;\n",
       "    }\n",
       "\n",
       "    .dataframe tbody tr th {\n",
       "        vertical-align: top;\n",
       "    }\n",
       "\n",
       "    .dataframe thead th {\n",
       "        text-align: right;\n",
       "    }\n",
       "</style>\n",
       "<table border=\"1\" class=\"dataframe\">\n",
       "  <thead>\n",
       "    <tr style=\"text-align: right;\">\n",
       "      <th></th>\n",
       "      <th>user_id</th>\n",
       "      <th>subscription_id</th>\n",
       "      <th>plan</th>\n",
       "      <th>status</th>\n",
       "      <th>sub_start</th>\n",
       "      <th>sub_end</th>\n",
       "    </tr>\n",
       "  </thead>\n",
       "  <tbody>\n",
       "    <tr>\n",
       "      <th>0</th>\n",
       "      <td>31</td>\n",
       "      <td>8368</td>\n",
       "      <td>Annual</td>\n",
       "      <td>1</td>\n",
       "      <td>2022-03-31</td>\n",
       "      <td>NaN</td>\n",
       "    </tr>\n",
       "    <tr>\n",
       "      <th>1</th>\n",
       "      <td>182</td>\n",
       "      <td>8246</td>\n",
       "      <td>Monthly</td>\n",
       "      <td>3</td>\n",
       "      <td>2022-03-26</td>\n",
       "      <td>2022-06-08</td>\n",
       "    </tr>\n",
       "    <tr>\n",
       "      <th>2</th>\n",
       "      <td>182</td>\n",
       "      <td>9415</td>\n",
       "      <td>Monthly</td>\n",
       "      <td>3</td>\n",
       "      <td>2022-07-13</td>\n",
       "      <td>2022-08-13</td>\n",
       "    </tr>\n",
       "    <tr>\n",
       "      <th>3</th>\n",
       "      <td>221</td>\n",
       "      <td>4629</td>\n",
       "      <td>Monthly</td>\n",
       "      <td>3</td>\n",
       "      <td>2021-06-10</td>\n",
       "      <td>2021-07-10</td>\n",
       "    </tr>\n",
       "    <tr>\n",
       "      <th>4</th>\n",
       "      <td>235</td>\n",
       "      <td>6429</td>\n",
       "      <td>Annual</td>\n",
       "      <td>1</td>\n",
       "      <td>2021-11-28</td>\n",
       "      <td>NaN</td>\n",
       "    </tr>\n",
       "  </tbody>\n",
       "</table>\n",
       "</div>"
      ],
      "text/plain": [
       "   user_id  subscription_id     plan  status   sub_start     sub_end\n",
       "0       31             8368   Annual       1  2022-03-31         NaN\n",
       "1      182             8246  Monthly       3  2022-03-26  2022-06-08\n",
       "2      182             9415  Monthly       3  2022-07-13  2022-08-13\n",
       "3      221             4629  Monthly       3  2021-06-10  2021-07-10\n",
       "4      235             6429   Annual       1  2021-11-28         NaN"
      ]
     },
     "execution_count": 3,
     "metadata": {},
     "output_type": "execute_result"
    }
   ],
   "source": [
    "data.head()"
   ]
  },
  {
   "cell_type": "code",
   "execution_count": 4,
   "id": "6cfcf077",
   "metadata": {},
   "outputs": [
    {
     "data": {
      "text/plain": [
       "str"
      ]
     },
     "execution_count": 4,
     "metadata": {},
     "output_type": "execute_result"
    }
   ],
   "source": [
    "type(data['sub_start'][0])"
   ]
  },
  {
   "cell_type": "code",
   "execution_count": 5,
   "id": "6d243bb1",
   "metadata": {},
   "outputs": [],
   "source": [
    "data[\"sub_start\"] = pd.to_datetime(data[\"sub_start\"], infer_datetime_format = True)\n",
    "data[\"sub_end\"] = pd.to_datetime(data[\"sub_end\"], infer_datetime_format = True)"
   ]
  },
  {
   "cell_type": "code",
   "execution_count": 6,
   "id": "e9ef9c08",
   "metadata": {},
   "outputs": [
    {
     "data": {
      "text/html": [
       "<div>\n",
       "<style scoped>\n",
       "    .dataframe tbody tr th:only-of-type {\n",
       "        vertical-align: middle;\n",
       "    }\n",
       "\n",
       "    .dataframe tbody tr th {\n",
       "        vertical-align: top;\n",
       "    }\n",
       "\n",
       "    .dataframe thead th {\n",
       "        text-align: right;\n",
       "    }\n",
       "</style>\n",
       "<table border=\"1\" class=\"dataframe\">\n",
       "  <thead>\n",
       "    <tr style=\"text-align: right;\">\n",
       "      <th></th>\n",
       "      <th>user_id</th>\n",
       "      <th>subscription_id</th>\n",
       "      <th>plan</th>\n",
       "      <th>status</th>\n",
       "      <th>sub_start</th>\n",
       "      <th>sub_end</th>\n",
       "    </tr>\n",
       "  </thead>\n",
       "  <tbody>\n",
       "    <tr>\n",
       "      <th>0</th>\n",
       "      <td>31</td>\n",
       "      <td>8368</td>\n",
       "      <td>Annual</td>\n",
       "      <td>1</td>\n",
       "      <td>2022-03-31</td>\n",
       "      <td>NaT</td>\n",
       "    </tr>\n",
       "    <tr>\n",
       "      <th>1</th>\n",
       "      <td>182</td>\n",
       "      <td>8246</td>\n",
       "      <td>Monthly</td>\n",
       "      <td>3</td>\n",
       "      <td>2022-03-26</td>\n",
       "      <td>2022-06-08</td>\n",
       "    </tr>\n",
       "    <tr>\n",
       "      <th>2</th>\n",
       "      <td>182</td>\n",
       "      <td>9415</td>\n",
       "      <td>Monthly</td>\n",
       "      <td>3</td>\n",
       "      <td>2022-07-13</td>\n",
       "      <td>2022-08-13</td>\n",
       "    </tr>\n",
       "    <tr>\n",
       "      <th>3</th>\n",
       "      <td>221</td>\n",
       "      <td>4629</td>\n",
       "      <td>Monthly</td>\n",
       "      <td>3</td>\n",
       "      <td>2021-06-10</td>\n",
       "      <td>2021-07-10</td>\n",
       "    </tr>\n",
       "    <tr>\n",
       "      <th>4</th>\n",
       "      <td>235</td>\n",
       "      <td>6429</td>\n",
       "      <td>Annual</td>\n",
       "      <td>1</td>\n",
       "      <td>2021-11-28</td>\n",
       "      <td>NaT</td>\n",
       "    </tr>\n",
       "  </tbody>\n",
       "</table>\n",
       "</div>"
      ],
      "text/plain": [
       "   user_id  subscription_id     plan  status  sub_start    sub_end\n",
       "0       31             8368   Annual       1 2022-03-31        NaT\n",
       "1      182             8246  Monthly       3 2022-03-26 2022-06-08\n",
       "2      182             9415  Monthly       3 2022-07-13 2022-08-13\n",
       "3      221             4629  Monthly       3 2021-06-10 2021-07-10\n",
       "4      235             6429   Annual       1 2021-11-28        NaT"
      ]
     },
     "execution_count": 6,
     "metadata": {},
     "output_type": "execute_result"
    }
   ],
   "source": [
    "data.head()"
   ]
  },
  {
   "cell_type": "markdown",
   "id": "fccf47d1",
   "metadata": {},
   "source": [
    "## Test"
   ]
  },
  {
   "cell_type": "code",
   "execution_count": 13,
   "id": "73f5fcc8",
   "metadata": {},
   "outputs": [],
   "source": [
    "test = generate_user_tags(data)"
   ]
  },
  {
   "cell_type": "code",
   "execution_count": 14,
   "id": "18783e0c",
   "metadata": {},
   "outputs": [
    {
     "data": {
      "text/html": [
       "<div>\n",
       "<style scoped>\n",
       "    .dataframe tbody tr th:only-of-type {\n",
       "        vertical-align: middle;\n",
       "    }\n",
       "\n",
       "    .dataframe tbody tr th {\n",
       "        vertical-align: top;\n",
       "    }\n",
       "\n",
       "    .dataframe thead th {\n",
       "        text-align: right;\n",
       "    }\n",
       "</style>\n",
       "<table border=\"1\" class=\"dataframe\">\n",
       "  <thead>\n",
       "    <tr style=\"text-align: right;\">\n",
       "      <th></th>\n",
       "      <th>user_id</th>\n",
       "      <th>current status</th>\n",
       "      <th>plan</th>\n",
       "      <th>tag</th>\n",
       "    </tr>\n",
       "  </thead>\n",
       "  <tbody>\n",
       "    <tr>\n",
       "      <th>0</th>\n",
       "      <td>31</td>\n",
       "      <td>1</td>\n",
       "      <td>Annual</td>\n",
       "      <td>Base</td>\n",
       "    </tr>\n",
       "    <tr>\n",
       "      <th>1</th>\n",
       "      <td>235</td>\n",
       "      <td>1</td>\n",
       "      <td>Annual</td>\n",
       "      <td>Base</td>\n",
       "    </tr>\n",
       "    <tr>\n",
       "      <th>2</th>\n",
       "      <td>591</td>\n",
       "      <td>1</td>\n",
       "      <td>Annual</td>\n",
       "      <td>Base</td>\n",
       "    </tr>\n",
       "    <tr>\n",
       "      <th>3</th>\n",
       "      <td>616</td>\n",
       "      <td>1</td>\n",
       "      <td>Annual</td>\n",
       "      <td>Base</td>\n",
       "    </tr>\n",
       "    <tr>\n",
       "      <th>4</th>\n",
       "      <td>618</td>\n",
       "      <td>1</td>\n",
       "      <td>Annual</td>\n",
       "      <td>Base</td>\n",
       "    </tr>\n",
       "  </tbody>\n",
       "</table>\n",
       "</div>"
      ],
      "text/plain": [
       "   user_id  current status    plan   tag\n",
       "0       31               1  Annual  Base\n",
       "1      235               1  Annual  Base\n",
       "2      591               1  Annual  Base\n",
       "3      616               1  Annual  Base\n",
       "4      618               1  Annual  Base"
      ]
     },
     "execution_count": 14,
     "metadata": {},
     "output_type": "execute_result"
    }
   ],
   "source": [
    "test.head()"
   ]
  },
  {
   "cell_type": "markdown",
   "id": "0713c205",
   "metadata": {},
   "source": [
    "## Data Export"
   ]
  },
  {
   "cell_type": "code",
   "execution_count": 15,
   "id": "0f5faa75",
   "metadata": {},
   "outputs": [],
   "source": [
    "result_last_30 = generate_user_tags(data, period = 30)\n",
    "result_last_90 = generate_user_tags(data, period = 90)\n",
    "result_last_365 = generate_user_tags(data, period = 365)"
   ]
  },
  {
   "cell_type": "code",
   "execution_count": 16,
   "id": "2247cd5c",
   "metadata": {},
   "outputs": [],
   "source": [
    "result_last_30.to_csv('Waterfall_subs_last_30.csv', index = False)\n",
    "result_last_90.to_csv('Waterfall_subs_last_90.csv', index = False)\n",
    "result_last_365.to_csv('Waterfall_subs_last_365.csv', index = False)"
   ]
  },
  {
   "cell_type": "code",
   "execution_count": null,
   "id": "ede9b6b0",
   "metadata": {},
   "outputs": [],
   "source": []
  }
 ],
 "metadata": {
  "kernelspec": {
   "display_name": "Python 3 (ipykernel)",
   "language": "python",
   "name": "python3"
  },
  "language_info": {
   "codemirror_mode": {
    "name": "ipython",
    "version": 3
   },
   "file_extension": ".py",
   "mimetype": "text/x-python",
   "name": "python",
   "nbconvert_exporter": "python",
   "pygments_lexer": "ipython3",
   "version": "3.9.7"
  }
 },
 "nbformat": 4,
 "nbformat_minor": 5
}
